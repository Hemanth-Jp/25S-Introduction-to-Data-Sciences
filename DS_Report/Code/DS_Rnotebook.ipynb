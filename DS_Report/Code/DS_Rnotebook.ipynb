{
 "cells": [
  {
   "cell_type": "markdown",
   "id": "815fe739",
   "metadata": {},
   "source": [
    "[25S]Introduction to Data Sciences "
   ]
  }
 ],
 "metadata": {
  "kernelspec": {
   "display_name": "R",
   "language": "R",
   "name": "ir"
  },
  "language_info": {
   "codemirror_mode": "r",
   "file_extension": ".r",
   "mimetype": "text/x-r-source",
   "name": "R",
   "pygments_lexer": "r",
   "version": "4.4.3"
  }
 },
 "nbformat": 4,
 "nbformat_minor": 5
}
