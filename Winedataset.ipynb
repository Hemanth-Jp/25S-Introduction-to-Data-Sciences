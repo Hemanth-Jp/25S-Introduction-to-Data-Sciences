{
 "cells": [
  {
   "cell_type": "code",
   "execution_count": 1,
   "id": "cbe8a55c",
   "metadata": {
    "vscode": {
     "languageId": "r"
    }
   },
   "outputs": [],
   "source": [
    "# ===================================================================\n",
    "# Introduction to Data Science - Wine Dataset Analysis\n",
    "# Authors: [Your Name] & Manoj Kumar Prabhakaran (7026006)\n",
    "# Assignment: Analysis of Portuguese Wine Dataset\n",
    "# Date: June 2025\n",
    "# ===================================================================\n",
    "\n",
    "# Clear workspace\n",
    "rm(list = ls())"
   ]
  },
  {
   "cell_type": "code",
   "execution_count": 5,
   "id": "dda89f31",
   "metadata": {
    "vscode": {
     "languageId": "r"
    }
   },
   "outputs": [
    {
     "name": "stderr",
     "output_type": "stream",
     "text": [
      "Warning message:\n",
      "\"packages 'reshape2', 'moments' are in use and will not be installed\"\n"
     ]
    },
    {
     "name": "stderr",
     "output_type": "stream",
     "text": [
      "also installing the dependencies 'rbibutils', 'cowplot', 'Deriv', 'microbenchmark', 'Rdpack', 'numDeriv', 'doBy', 'SparseM', 'MatrixModels', 'minqa', 'nloptr', 'reformulas', 'RcppEigen', 'carData', 'abind', 'Formula', 'pbkrtest', 'quantreg', 'lme4'\n",
      "\n",
      "\n"
     ]
    },
    {
     "name": "stdout",
     "output_type": "stream",
     "text": [
      "package 'rbibutils' successfully unpacked and MD5 sums checked\n",
      "package 'cowplot' successfully unpacked and MD5 sums checked\n",
      "package 'Deriv' successfully unpacked and MD5 sums checked\n",
      "package 'microbenchmark' successfully unpacked and MD5 sums checked\n",
      "package 'Rdpack' successfully unpacked and MD5 sums checked\n",
      "package 'numDeriv' successfully unpacked and MD5 sums checked\n",
      "package 'doBy' successfully unpacked and MD5 sums checked\n",
      "package 'SparseM' successfully unpacked and MD5 sums checked\n",
      "package 'MatrixModels' successfully unpacked and MD5 sums checked\n",
      "package 'minqa' successfully unpacked and MD5 sums checked\n",
      "package 'nloptr' successfully unpacked and MD5 sums checked\n",
      "package 'reformulas' successfully unpacked and MD5 sums checked\n",
      "package 'RcppEigen' successfully unpacked and MD5 sums checked\n",
      "package 'carData' successfully unpacked and MD5 sums checked\n",
      "package 'abind' successfully unpacked and MD5 sums checked\n",
      "package 'Formula' successfully unpacked and MD5 sums checked\n",
      "package 'pbkrtest' successfully unpacked and MD5 sums checked\n",
      "package 'quantreg' successfully unpacked and MD5 sums checked\n",
      "package 'lme4' successfully unpacked and MD5 sums checked\n",
      "package 'car' successfully unpacked and MD5 sums checked\n",
      "package 'pROC' successfully unpacked and MD5 sums checked\n",
      "package 'psych' successfully unpacked and MD5 sums checked\n",
      "\n",
      "The downloaded binary packages are in\n",
      "\tC:\\Users\\Manoj Kumar\\AppData\\Local\\Temp\\Rtmp69OsAb\\downloaded_packages\n"
     ]
    }
   ],
   "source": [
    "install.packages(c(\"reshape2\", \"moments\", \"car\", \"pROC\", \"psych\"))\n",
    "# Load necessary libraries"
   ]
  },
  {
   "cell_type": "code",
   "execution_count": 6,
   "id": "70968739",
   "metadata": {
    "vscode": {
     "languageId": "r"
    }
   },
   "outputs": [
    {
     "name": "stderr",
     "output_type": "stream",
     "text": [
      "Loading required package: carData\n",
      "\n"
     ]
    },
    {
     "name": "stderr",
     "output_type": "stream",
     "text": [
      "Type 'citation(\"pROC\")' for a citation.\n",
      "\n",
      "\n",
      "Attaching package: 'pROC'\n",
      "\n",
      "\n",
      "The following objects are masked from 'package:stats':\n",
      "\n",
      "    cov, smooth, var\n",
      "\n",
      "\n",
      "\n",
      "Attaching package: 'psych'\n",
      "\n",
      "\n",
      "The following object is masked from 'package:car':\n",
      "\n",
      "    logit\n",
      "\n",
      "\n"
     ]
    }
   ],
   "source": [
    "# Load required packages\n",
    "# Note: Install packages if not already installed using install.packages()\n",
    "library(reshape2)  # For data manipulation (taught in class)\n",
    "library(moments)   # For skewness calculation\n",
    "library(car)       # For regression diagnostics\n",
    "library(pROC)      # For ROC curves and AUC\n",
    "library(psych)     # For factor analysis and descriptive statistics"
   ]
  },
  {
   "cell_type": "markdown",
   "id": "5281cfe5",
   "metadata": {
    "vscode": {
     "languageId": "r"
    }
   },
   "source": [
    "# ===================================================================\n",
    "# TASK 1: DESCRIPTIVE STATISTICS AND DATA EXPLORATION\n",
    "# ==================================================================="
   ]
  },
  {
   "cell_type": "code",
   "execution_count": 8,
   "id": "a3ddfd08",
   "metadata": {
    "vscode": {
     "languageId": "r"
    }
   },
   "outputs": [],
   "source": [
    "# Read the wine dataset\n",
    "wine_data <- read.csv(\"D:\\\\DataScience\\\\wine.csv\")\n"
   ]
  },
  {
   "cell_type": "code",
   "execution_count": 9,
   "id": "698987ef",
   "metadata": {
    "vscode": {
     "languageId": "r"
    }
   },
   "outputs": [
    {
     "name": "stdout",
     "output_type": "stream",
     "text": [
      "Dataset Structure:\n",
      "'data.frame':\t6497 obs. of  14 variables:\n",
      " $ X                   : int  1 2 3 4 5 6 7 8 9 10 ...\n",
      " $ fixed.acidity       : num  7.4 7.8 7.8 11.2 7.4 7.4 7.9 7.3 7.8 7.5 ...\n",
      " $ volatile.acidity    : num  0.7 0.88 0.76 0.28 0.7 0.66 0.6 0.65 0.58 0.5 ...\n",
      " $ citric.acid         : num  0 0 0.04 0.56 0 0 0.06 0 0.02 0.36 ...\n",
      " $ residual.sugar      : num  1.9 2.6 2.3 1.9 1.9 1.8 1.6 1.2 2 6.1 ...\n",
      " $ chlorides           : num  0.076 0.098 0.092 0.075 0.076 0.075 0.069 0.065 0.073 0.071 ...\n",
      " $ free.sulfur.dioxide : num  11 25 15 17 11 13 15 15 9 17 ...\n",
      " $ total.sulfur.dioxide: num  34 67 54 60 34 40 59 21 18 102 ...\n",
      " $ density             : num  0.998 0.997 0.997 0.998 0.998 ...\n",
      " $ pH                  : num  3.51 3.2 3.26 3.16 3.51 3.51 3.3 3.39 3.36 3.35 ...\n",
      " $ sulphates           : num  0.56 0.68 0.65 0.58 0.56 0.56 0.46 0.47 0.57 0.8 ...\n",
      " $ alcohol             : num  9.4 9.8 9.8 9.8 9.4 9.4 9.4 10 9.5 10.5 ...\n",
      " $ quality             : int  5 5 5 6 5 5 5 7 7 5 ...\n",
      " $ variety             : chr  \"red\" \"red\" \"red\" \"red\" ...\n",
      "\n",
      "Dataset Dimensions: 6497 14 \n"
     ]
    }
   ],
   "source": [
    "# Basic data structure\n",
    "cat(\"Dataset Structure:\\n\")\n",
    "str(wine_data)\n",
    "cat(\"\\nDataset Dimensions:\", dim(wine_data), \"\\n\")"
   ]
  },
  {
   "cell_type": "code",
   "execution_count": 11,
   "id": "fde76951",
   "metadata": {
    "vscode": {
     "languageId": "r"
    }
   },
   "outputs": [
    {
     "name": "stdout",
     "output_type": "stream",
     "text": [
      "\n",
      "=== TASK 1A: DESCRIPTIVE STATISTICS ===\n"
     ]
    }
   ],
   "source": [
    "# 1a) Distribution parameters for all metric variables\n",
    "cat(\"\\n=== TASK 1A: DESCRIPTIVE STATISTICS ===\\n\")\n",
    "\n",
    "# Identify metric (numeric) and categorical variables\n",
    "metric_vars <- c(\"fixed.acidity\", \"volatile.acidity\", \"citric.acid\", \n",
    "                 \"residual.sugar\", \"chlorides\", \"free.sulfur.dioxide\",\n",
    "                 \"total.sulfur.dioxide\", \"density\", \"pH\", \"sulphates\", \n",
    "                 \"alcohol\", \"quality\")\n",
    "\n",
    "categorical_vars <- c(\"variety\")\n"
   ]
  },
  {
   "cell_type": "code",
   "execution_count": 12,
   "id": "59b7b6ee",
   "metadata": {
    "vscode": {
     "languageId": "r"
    }
   },
   "outputs": [],
   "source": [
    "# Create comprehensive descriptive statistics table\n",
    "desc_stats <- data.frame(\n",
    "  Variable = character(),\n",
    "  Mean = numeric(),\n",
    "  SD = numeric(),\n",
    "  Min = numeric(),\n",
    "  Q1 = numeric(),\n",
    "  Median = numeric(),\n",
    "  Q3 = numeric(),\n",
    "  Max = numeric(),\n",
    "  Missing = numeric(),\n",
    "  Skewness = numeric(),\n",
    "  stringsAsFactors = FALSE\n",
    ")"
   ]
  },
  {
   "cell_type": "code",
   "execution_count": 13,
   "id": "a2a24135",
   "metadata": {
    "vscode": {
     "languageId": "r"
    }
   },
   "outputs": [],
   "source": [
    "# Calculate statistics for each metric variable\n",
    "for(var in metric_vars) {\n",
    "  if(var %in% names(wine_data)) {\n",
    "    x <- wine_data[[var]]\n",
    "    desc_stats <- rbind(desc_stats, data.frame(\n",
    "      Variable = var,\n",
    "      Mean = round(mean(x, na.rm = TRUE), 3),\n",
    "      SD = round(sd(x, na.rm = TRUE), 3),\n",
    "      Min = round(min(x, na.rm = TRUE), 3),\n",
    "      Q1 = round(quantile(x, 0.25, na.rm = TRUE), 3),\n",
    "      Median = round(median(x, na.rm = TRUE), 3),\n",
    "      Q3 = round(quantile(x, 0.75, na.rm = TRUE), 3),\n",
    "      Max = round(max(x, na.rm = TRUE), 3),\n",
    "      Missing = sum(is.na(x)),\n",
    "      Skewness = round(skewness(x, na.rm = TRUE), 3)\n",
    "    ))\n",
    "  }\n",
    "}"
   ]
  },
  {
   "cell_type": "code",
   "execution_count": 14,
   "id": "5bd1957d",
   "metadata": {
    "vscode": {
     "languageId": "r"
    }
   },
   "outputs": [
    {
     "name": "stdout",
     "output_type": "stream",
     "text": [
      "                  Variable    Mean     SD   Min     Q1  Median      Q3     Max\n",
      "25%          fixed.acidity   7.215  1.296 3.800  6.400   7.000   7.700  15.900\n",
      "25%1      volatile.acidity   0.340  0.165 0.080  0.230   0.290   0.400   1.580\n",
      "25%2           citric.acid   0.319  0.145 0.000  0.250   0.310   0.390   1.660\n",
      "25%3        residual.sugar   5.443  4.758 0.600  1.800   3.000   8.100  65.800\n",
      "25%4             chlorides   0.056  0.035 0.009  0.038   0.047   0.065   0.611\n",
      "25%5   free.sulfur.dioxide  30.525 17.749 1.000 17.000  29.000  41.000 289.000\n",
      "25%6  total.sulfur.dioxide 115.745 56.522 6.000 77.000 118.000 156.000 440.000\n",
      "25%7               density   0.995  0.003 0.987  0.992   0.995   0.997   1.039\n",
      "25%8                    pH   3.219  0.161 2.720  3.110   3.210   3.320   4.010\n",
      "25%9             sulphates   0.531  0.149 0.220  0.430   0.510   0.600   2.000\n",
      "25%10              alcohol  10.492  1.193 8.000  9.500  10.300  11.300  14.900\n",
      "25%11              quality   5.818  0.873 3.000  5.000   6.000   6.000   9.000\n",
      "      Missing Skewness\n",
      "25%         0    1.723\n",
      "25%1        0    1.495\n",
      "25%2        0    0.472\n",
      "25%3        0    1.435\n",
      "25%4        0    5.399\n",
      "25%5        0    1.220\n",
      "25%6        0   -0.001\n",
      "25%7        0    0.503\n",
      "25%8        0    0.387\n",
      "25%9        0    1.797\n",
      "25%10       0    0.566\n",
      "25%11       0    0.190\n",
      "\n",
      "=== FREQUENCY DISTRIBUTIONS FOR CATEGORICAL VARIABLES ===\n",
      "\n",
      " variety :\n",
      "\n",
      "  red white \n",
      " 1599  4898 \n",
      "\n",
      "      red     white \n",
      "0.2461136 0.7538864 \n"
     ]
    }
   ],
   "source": [
    "print(desc_stats)\n",
    "\n",
    "# Frequency distributions for categorical variables\n",
    "cat(\"\\n=== FREQUENCY DISTRIBUTIONS FOR CATEGORICAL VARIABLES ===\\n\")\n",
    "for(var in categorical_vars) {\n",
    "  if(var %in% names(wine_data)) {\n",
    "    cat(\"\\n\", var, \":\\n\")\n",
    "    freq_table <- table(wine_data[[var]], useNA = \"ifany\")\n",
    "    print(freq_table)\n",
    "    print(prop.table(freq_table))\n",
    "  }\n",
    "}"
   ]
  },
  {
   "cell_type": "code",
   "execution_count": 15,
   "id": "60458ab6",
   "metadata": {
    "vscode": {
     "languageId": "r"
    }
   },
   "outputs": [
    {
     "name": "stdout",
     "output_type": "stream",
     "text": [
      "\n",
      "=== TASK 1B: GRAPHICS AND DISTRIBUTION ASSESSMENT ===\n"
     ]
    }
   ],
   "source": [
    "# 1b) Create suitable graphics for all variables\n",
    "cat(\"\\n=== TASK 1B: GRAPHICS AND DISTRIBUTION ASSESSMENT ===\\n\")"
   ]
  },
  {
   "cell_type": "code",
   "execution_count": 16,
   "id": "f6a8e7cb",
   "metadata": {
    "vscode": {
     "languageId": "r"
    }
   },
   "outputs": [
    {
     "data": {
      "image/png": "[encoded data removed]",
      "text/plain": [
       "Plot with title \"Boxplot of volatile.acidity\""
      ]
     },
     "metadata": {
      "image/png": {
       "height": 420,
       "width": 420
      }
     },
     "output_type": "display_data"
    },
    {
     "data": {
      "image/png": "[encoded data removed]",
      "text/plain": [
       "Plot with title \"Boxplot of residual.sugar\""
      ]
     },
     "metadata": {
      "image/png": {
       "height": 420,
       "width": 420
      }
     },
     "output_type": "display_data"
    },
    {
     "data": {
      "image/png": "[encoded data removed]",
      "text/plain": [
       "Plot with title \"Boxplot of free.sulfur.dioxide\""
      ]
     },
     "metadata": {
      "image/png": {
       "height": 420,
       "width": 420
      }
     },
     "output_type": "display_data"
    },
    {
     "data": {
      "image/png": "[encoded data removed]",
      "text/plain": [
       "Plot with title \"Boxplot of density\""
      ]
     },
     "metadata": {
      "image/png": {
       "height": 420,
       "width": 420
      }
     },
     "output_type": "display_data"
    },
    {
     "data": {
      "image/png": "[encoded data removed]",
      "text/plain": [
       "Plot with title \"Boxplot of sulphates\""
      ]
     },
     "metadata": {
      "image/png": {
       "height": 420,
       "width": 420
      }
     },
     "output_type": "display_data"
    },
    {
     "data": {
      "image/png": "[encoded data removed]",
      "text/plain": [
       "Plot with title \"Boxplot of quality\""
      ]
     },
     "metadata": {
      "image/png": {
       "height": 420,
       "width": 420
      }
     },
     "output_type": "display_data"
    }
   ],
   "source": [
    "# Set up graphics parameters\n",
    "par(mfrow = c(2, 2))\n",
    "\n",
    "# Create histograms and boxplots for metric variables\n",
    "for(var in metric_vars) {\n",
    "  if(var %in% names(wine_data)) {\n",
    "    # Histogram\n",
    "    hist(wine_data[[var]], main = paste(\"Histogram of\", var), \n",
    "         xlab = var, col = \"lightblue\", breaks = 30)\n",
    "    \n",
    "    # Boxplot\n",
    "    boxplot(wine_data[[var]], main = paste(\"Boxplot of\", var), \n",
    "            ylab = var, col = \"lightgreen\")\n",
    "  }\n",
    "}"
   ]
  },
  {
   "cell_type": "code",
   "execution_count": 17,
   "id": "1238269c",
   "metadata": {
    "vscode": {
     "languageId": "r"
    }
   },
   "outputs": [
    {
     "data": {
      "image/png": "[encoded data removed]",
      "text/plain": [
       "Plot with title \"Bar Plot of variety\""
      ]
     },
     "metadata": {
      "image/png": {
       "height": 420,
       "width": 420
      }
     },
     "output_type": "display_data"
    }
   ],
   "source": [
    "# Bar plot for categorical variables\n",
    "for(var in categorical_vars) {\n",
    "  if(var %in% names(wine_data)) {\n",
    "    barplot(table(wine_data[[var]]), main = paste(\"Bar Plot of\", var),\n",
    "            xlab = var, ylab = \"Frequency\", col = c(\"red\", \"white\"))\n",
    "  }\n",
    "}"
   ]
  },
  {
   "cell_type": "code",
   "execution_count": 18,
   "id": "2763626b",
   "metadata": {
    "vscode": {
     "languageId": "r"
    }
   },
   "outputs": [],
   "source": [
    "# Reset graphics parameters\n",
    "par(mfrow = c(1, 1))"
   ]
  },
  {
   "cell_type": "markdown",
   "id": "81834600",
   "metadata": {},
   "source": [
    "# ===================================================================\n",
    "# TASK 2: T-TEST FOR ALCOHOL CONTENT BETWEEN RED AND WHITE WINES\n",
    "# ==================================================================="
   ]
  },
  {
   "cell_type": "code",
   "execution_count": 19,
   "id": "94d17d1e",
   "metadata": {
    "vscode": {
     "languageId": "r"
    }
   },
   "outputs": [
    {
     "name": "stdout",
     "output_type": "stream",
     "text": [
      "\n",
      "=== TASK 2: T-TEST ANALYSIS ===\n"
     ]
    }
   ],
   "source": [
    "cat(\"\\n=== TASK 2: T-TEST ANALYSIS ===\\n\")"
   ]
  },
  {
   "cell_type": "code",
   "execution_count": 20,
   "id": "63015258",
   "metadata": {
    "vscode": {
     "languageId": "r"
    }
   },
   "outputs": [
    {
     "name": "stdout",
     "output_type": "stream",
     "text": [
      "T-Test Assumption Checks:\n"
     ]
    }
   ],
   "source": [
    "# Separate alcohol content by wine variety\n",
    "red_alcohol <- wine_data$alcohol[wine_data$variety == \"red\"]\n",
    "white_alcohol <- wine_data$alcohol[wine_data$variety == \"white\"]\n",
    "\n",
    "# Check t-test assumptions\n",
    "cat(\"T-Test Assumption Checks:\\n\")"
   ]
  },
  {
   "cell_type": "code",
   "execution_count": 21,
   "id": "6097ec92",
   "metadata": {
    "vscode": {
     "languageId": "r"
    }
   },
   "outputs": [
    {
     "name": "stdout",
     "output_type": "stream",
     "text": [
      "\n",
      "Normality Tests (Shapiro-Wilk):\n",
      "Red wines alcohol normality p-value: 6.644057e-27 \n",
      "White wines alcohol normality p-value: 2.569014e-36 \n"
     ]
    }
   ],
   "source": [
    "# 1. Normality test\n",
    "cat(\"\\nNormality Tests (Shapiro-Wilk):\\n\")\n",
    "red_normality <- shapiro.test(sample(red_alcohol, min(5000, length(red_alcohol))))\n",
    "white_normality <- shapiro.test(sample(white_alcohol, min(5000, length(white_alcohol))))\n",
    "\n",
    "cat(\"Red wines alcohol normality p-value:\", red_normality$p.value, \"\\n\")\n",
    "cat(\"White wines alcohol normality p-value:\", white_normality$p.value, \"\\n\")"
   ]
  },
  {
   "cell_type": "code",
   "execution_count": 22,
   "id": "dadd0174",
   "metadata": {
    "vscode": {
     "languageId": "r"
    }
   },
   "outputs": [
    {
     "name": "stdout",
     "output_type": "stream",
     "text": [
      "\n",
      "Equal variances test p-value: 5.947444e-12 \n"
     ]
    }
   ],
   "source": [
    "# 2. Equal variances test\n",
    "var_test <- var.test(red_alcohol, white_alcohol)\n",
    "cat(\"\\nEqual variances test p-value:\", var_test$p.value, \"\\n\")"
   ]
  },
  {
   "cell_type": "code",
   "execution_count": 23,
   "id": "892d6c5d",
   "metadata": {
    "vscode": {
     "languageId": "r"
    }
   },
   "outputs": [
    {
     "name": "stdout",
     "output_type": "stream",
     "text": [
      "\n",
      "Welch Two Sample t-test (unequal variances):\n",
      "\n",
      "\tWelch Two Sample t-test\n",
      "\n",
      "data:  red_alcohol and white_alcohol\n",
      "t = -2.859, df = 3100.5, p-value = 0.004278\n",
      "alternative hypothesis: true difference in means is not equal to 0\n",
      "95 percent confidence interval:\n",
      " -0.15388669 -0.02868117\n",
      "sample estimates:\n",
      "mean of x mean of y \n",
      " 10.42298  10.51427 \n",
      "\n"
     ]
    }
   ],
   "source": [
    "# Perform appropriate t-test\n",
    "if(var_test$p.value < 0.05) {\n",
    "  # Unequal variances\n",
    "  t_result <- t.test(red_alcohol, white_alcohol, var.equal = FALSE)\n",
    "  cat(\"\\nWelch Two Sample t-test (unequal variances):\\n\")\n",
    "} else {\n",
    "  # Equal variances\n",
    "  t_result <- t.test(red_alcohol, white_alcohol, var.equal = TRUE)\n",
    "  cat(\"\\nTwo Sample t-test (equal variances):\\n\")\n",
    "}\n",
    "\n",
    "print(t_result)"
   ]
  },
  {
   "cell_type": "code",
   "execution_count": 24,
   "id": "8d36b702",
   "metadata": {
    "vscode": {
     "languageId": "r"
    }
   },
   "outputs": [
    {
     "name": "stdout",
     "output_type": "stream",
     "text": [
      "Cohen's d (effect size): -0.07657052 \n"
     ]
    }
   ],
   "source": [
    "# Effect size (Cohen's d)\n",
    "pooled_sd <- sqrt(((length(red_alcohol)-1)*var(red_alcohol) + \n",
    "                   (length(white_alcohol)-1)*var(white_alcohol)) / \n",
    "                  (length(red_alcohol) + length(white_alcohol) - 2))\n",
    "cohens_d <- (mean(red_alcohol) - mean(white_alcohol)) / pooled_sd\n",
    "cat(\"Cohen's d (effect size):\", cohens_d, \"\\n\")"
   ]
  },
  {
   "cell_type": "markdown",
   "id": "1376c29f",
   "metadata": {},
   "source": [
    "# ===================================================================\n",
    "# TASK 3: LINEAR REGRESSION FOR RED WINES QUALITY\n",
    "# ==================================================================="
   ]
  },
  {
   "cell_type": "code",
   "execution_count": 25,
   "id": "fb49b428",
   "metadata": {
    "vscode": {
     "languageId": "r"
    }
   },
   "outputs": [
    {
     "name": "stdout",
     "output_type": "stream",
     "text": [
      "\n",
      "=== TASK 3: LINEAR REGRESSION ANALYSIS (RED WINES ONLY) ===\n",
      "Linear Regression Model Summary:\n"
     ]
    },
    {
     "data": {
      "text/plain": [
       "\n",
       "Call:\n",
       "lm(formula = as.formula(formula_str), data = red_wines)\n",
       "\n",
       "Residuals:\n",
       "     Min       1Q   Median       3Q      Max \n",
       "-2.68911 -0.36652 -0.04699  0.45202  2.02498 \n",
       "\n",
       "Coefficients:\n",
       "                       Estimate Std. Error t value Pr(>|t|)    \n",
       "(Intercept)           2.197e+01  2.119e+01   1.036   0.3002    \n",
       "fixed.acidity         2.499e-02  2.595e-02   0.963   0.3357    \n",
       "volatile.acidity     -1.084e+00  1.211e-01  -8.948  < 2e-16 ***\n",
       "citric.acid          -1.826e-01  1.472e-01  -1.240   0.2150    \n",
       "residual.sugar        1.633e-02  1.500e-02   1.089   0.2765    \n",
       "chlorides            -1.874e+00  4.193e-01  -4.470 8.37e-06 ***\n",
       "free.sulfur.dioxide   4.361e-03  2.171e-03   2.009   0.0447 *  \n",
       "total.sulfur.dioxide -3.265e-03  7.287e-04  -4.480 8.00e-06 ***\n",
       "density              -1.788e+01  2.163e+01  -0.827   0.4086    \n",
       "pH                   -4.137e-01  1.916e-01  -2.159   0.0310 *  \n",
       "sulphates             9.163e-01  1.143e-01   8.014 2.13e-15 ***\n",
       "alcohol               2.762e-01  2.648e-02  10.429  < 2e-16 ***\n",
       "---\n",
       "Signif. codes:  0 '***' 0.001 '**' 0.01 '*' 0.05 '.' 0.1 ' ' 1\n",
       "\n",
       "Residual standard error: 0.648 on 1587 degrees of freedom\n",
       "Multiple R-squared:  0.3606,\tAdjusted R-squared:  0.3561 \n",
       "F-statistic: 81.35 on 11 and 1587 DF,  p-value: < 2.2e-16\n"
      ]
     },
     "metadata": {},
     "output_type": "display_data"
    },
    {
     "name": "stdout",
     "output_type": "stream",
     "text": [
      "\n",
      "=== REGRESSION DIAGNOSTICS ===\n",
      "Mean of residuals: -3.777011e-17 \n",
      "Durbin-Watson test p-value: 0 \n",
      "Breusch-Pagan test p-value: 2.041867e-06 \n",
      "\n",
      "Variance Inflation Factors:\n",
      "       fixed.acidity     volatile.acidity          citric.acid \n",
      "            7.767512             1.789390             3.128022 \n",
      "      residual.sugar            chlorides  free.sulfur.dioxide \n",
      "            1.702588             1.481932             1.963019 \n",
      "total.sulfur.dioxide              density                   pH \n",
      "            2.186813             6.343760             3.329732 \n",
      "           sulphates              alcohol \n",
      "            1.429434             3.031160 \n",
      "Normality of residuals p-value: 1.95424e-08 \n"
     ]
    },
    {
     "data": {
      "image/png": "[encoded data removed]",
      "text/plain": [
       "Plot with title \"\""
      ]
     },
     "metadata": {
      "image/png": {
       "height": 420,
       "width": 420
      }
     },
     "output_type": "display_data"
    }
   ],
   "source": [
    "cat(\"\\n=== TASK 3: LINEAR REGRESSION ANALYSIS (RED WINES ONLY) ===\\n\")\n",
    "\n",
    "# Filter for red wines only\n",
    "red_wines <- wine_data[wine_data$variety == \"red\", ]\n",
    "\n",
    "# Remove non-predictor variables\n",
    "predictor_vars <- c(\"fixed.acidity\", \"volatile.acidity\", \"citric.acid\", \n",
    "                    \"residual.sugar\", \"chlorides\", \"free.sulfur.dioxide\",\n",
    "                    \"total.sulfur.dioxide\", \"density\", \"pH\", \"sulphates\", \"alcohol\")\n",
    "\n",
    "# Build multiple linear regression model\n",
    "formula_str <- paste(\"quality ~\", paste(predictor_vars, collapse = \" + \"))\n",
    "regression_model <- lm(as.formula(formula_str), data = red_wines)\n",
    "\n",
    "# Model summary\n",
    "cat(\"Linear Regression Model Summary:\\n\")\n",
    "summary(regression_model)\n",
    "\n",
    "# Regression diagnostics\n",
    "cat(\"\\n=== REGRESSION DIAGNOSTICS ===\\n\")\n",
    "\n",
    "# Check regression assumptions\n",
    "par(mfrow = c(2, 2))\n",
    "plot(regression_model)\n",
    "par(mfrow = c(1, 1))\n",
    "\n",
    "# AR1: Linearity (already checked via residual plots)\n",
    "# AR2: Zero mean residuals\n",
    "cat(\"Mean of residuals:\", mean(regression_model$residuals), \"\\n\")\n",
    "\n",
    "# AR3: No autocorrelation (Durbin-Watson test)\n",
    "dw_test <- car::durbinWatsonTest(regression_model)\n",
    "cat(\"Durbin-Watson test p-value:\", dw_test$p, \"\\n\")\n",
    "\n",
    "# AR4: Homoscedasticity (Breusch-Pagan test)\n",
    "bp_test <- car::ncvTest(regression_model)\n",
    "cat(\"Breusch-Pagan test p-value:\", bp_test$p, \"\\n\")\n",
    "\n",
    "# AR5: Multicollinearity (VIF)\n",
    "vif_values <- car::vif(regression_model)\n",
    "cat(\"\\nVariance Inflation Factors:\\n\")\n",
    "print(vif_values)\n",
    "\n",
    "# AR6: Normality of residuals\n",
    "shapiro_residuals <- shapiro.test(sample(regression_model$residuals, \n",
    "                                        min(5000, length(regression_model$residuals))))\n",
    "cat(\"Normality of residuals p-value:\", shapiro_residuals$p.value, \"\\n\")"
   ]
  },
  {
   "cell_type": "markdown",
   "id": "edd4daff",
   "metadata": {},
   "source": [
    "# ===================================================================\n",
    "# TASK 4: CLASSIFICATION - GOOD VS BAD WINES\n",
    "# ==================================================================="
   ]
  },
  {
   "cell_type": "code",
   "execution_count": 26,
   "id": "e513fa22",
   "metadata": {
    "vscode": {
     "languageId": "r"
    }
   },
   "outputs": [
    {
     "name": "stdout",
     "output_type": "stream",
     "text": [
      "\n",
      "=== TASK 4: WINE QUALITY CLASSIFICATION ===\n",
      "Quality distribution for binary classification:\n"
     ]
    },
    {
     "data": {
      "text/plain": [
       "\n",
       " bad good \n",
       " 246  198 "
      ]
     },
     "metadata": {},
     "output_type": "display_data"
    },
    {
     "name": "stdout",
     "output_type": "stream",
     "text": [
      "\n",
      "Logistic Regression Model Summary:\n"
     ]
    },
    {
     "data": {
      "text/plain": [
       "\n",
       "Call:\n",
       "glm(formula = as.formula(binary_formula), family = binomial(), \n",
       "    data = binary_wines)\n",
       "\n",
       "Coefficients:\n",
       "                       Estimate Std. Error z value Pr(>|z|)    \n",
       "(Intercept)           3.609e+02  2.044e+02   1.766  0.07747 .  \n",
       "fixed.acidity         3.912e-01  2.447e-01   1.598  0.10994    \n",
       "volatile.acidity     -8.784e+00  1.551e+00  -5.662 1.49e-08 ***\n",
       "citric.acid          -2.680e-01  1.411e+00  -0.190  0.84935    \n",
       "residual.sugar        3.779e-01  9.161e-02   4.125 3.71e-05 ***\n",
       "chlorides            -3.125e-01  5.477e+00  -0.057  0.95450    \n",
       "free.sulfur.dioxide   2.896e-02  9.659e-03   2.998  0.00272 ** \n",
       "total.sulfur.dioxide -1.109e-02  4.660e-03  -2.379  0.01734 *  \n",
       "density              -3.879e+02  2.082e+02  -1.863  0.06242 .  \n",
       "pH                    2.918e+00  1.360e+00   2.145  0.03195 *  \n",
       "sulphates             3.339e+00  1.309e+00   2.550  0.01077 *  \n",
       "alcohol               1.101e+00  2.890e-01   3.808  0.00014 ***\n",
       "---\n",
       "Signif. codes:  0 '***' 0.001 '**' 0.01 '*' 0.05 '.' 0.1 ' ' 1\n",
       "\n",
       "(Dispersion parameter for binomial family taken to be 1)\n",
       "\n",
       "    Null deviance: 610.32  on 443  degrees of freedom\n",
       "Residual deviance: 302.18  on 432  degrees of freedom\n",
       "AIC: 326.18\n",
       "\n",
       "Number of Fisher Scoring iterations: 6\n"
      ]
     },
     "metadata": {},
     "output_type": "display_data"
    },
    {
     "name": "stdout",
     "output_type": "stream",
     "text": [
      "\n",
      "Confusion Matrix:\n",
      "         Actual\n",
      "Predicted bad good\n",
      "     bad  215   36\n",
      "     good  31  162\n",
      "Accuracy: 0.849 \n",
      "Precision: 0.839 \n",
      "Recall: 0.818 \n",
      "F1-Score: 0.829 \n"
     ]
    }
   ],
   "source": [
    "cat(\"\\n=== TASK 4: WINE QUALITY CLASSIFICATION ===\\n\")\n",
    "\n",
    "# Create binary quality variable (good = quality >= 8, bad = quality <= 4)\n",
    "wine_data$quality_binary <- ifelse(wine_data$quality >= 8, \"good\",\n",
    "                                  ifelse(wine_data$quality <= 4, \"bad\", \"medium\"))\n",
    "\n",
    "# Remove medium quality wines for binary classification\n",
    "binary_wines <- wine_data[wine_data$quality_binary %in% c(\"good\", \"bad\"), ]\n",
    "binary_wines$quality_binary <- factor(binary_wines$quality_binary)\n",
    "\n",
    "cat(\"Quality distribution for binary classification:\\n\")\n",
    "table(binary_wines$quality_binary)\n",
    "\n",
    "# Logistic regression for quality classification\n",
    "binary_formula <- paste(\"quality_binary ~\", paste(predictor_vars, collapse = \" + \"))\n",
    "logistic_model <- glm(as.formula(binary_formula), \n",
    "                     data = binary_wines, family = binomial())\n",
    "\n",
    "cat(\"\\nLogistic Regression Model Summary:\\n\")\n",
    "summary(logistic_model)\n",
    "\n",
    "# Model predictions\n",
    "predictions <- predict(logistic_model, type = \"response\")\n",
    "predicted_class <- ifelse(predictions > 0.5, \"good\", \"bad\")\n",
    "\n",
    "# Confusion matrix\n",
    "confusion_matrix <- table(Predicted = predicted_class, \n",
    "                         Actual = binary_wines$quality_binary)\n",
    "cat(\"\\nConfusion Matrix:\\n\")\n",
    "print(confusion_matrix)\n",
    "\n",
    "# Calculate accuracy, precision, recall\n",
    "accuracy <- sum(diag(confusion_matrix)) / sum(confusion_matrix)\n",
    "precision <- confusion_matrix[2,2] / sum(confusion_matrix[2,])\n",
    "recall <- confusion_matrix[2,2] / sum(confusion_matrix[,2])\n",
    "f1_score <- 2 * (precision * recall) / (precision + recall)\n",
    "\n",
    "cat(\"Accuracy:\", round(accuracy, 3), \"\\n\")\n",
    "cat(\"Precision:\", round(precision, 3), \"\\n\")\n",
    "cat(\"Recall:\", round(recall, 3), \"\\n\")\n",
    "cat(\"F1-Score:\", round(f1_score, 3), \"\\n\")"
   ]
  },
  {
   "cell_type": "markdown",
   "id": "0452f0b0",
   "metadata": {},
   "source": [
    "# ===================================================================\n",
    "# TASK 5: COLOR PREDICTION WITH TRAIN/TEST SPLIT\n",
    "# ==================================================================="
   ]
  },
  {
   "cell_type": "code",
   "execution_count": 27,
   "id": "33e9ec13",
   "metadata": {
    "vscode": {
     "languageId": "r"
    }
   },
   "outputs": [
    {
     "name": "stdout",
     "output_type": "stream",
     "text": [
      "\n",
      "=== TASK 5: WINE COLOR PREDICTION ===\n",
      "Training set size: 4547 \n",
      "Test set size: 1950 \n",
      "\n",
      "Color Prediction Model Summary:\n"
     ]
    },
    {
     "data": {
      "text/plain": [
       "\n",
       "Call:\n",
       "glm(formula = as.formula(color_formula), family = binomial(), \n",
       "    data = train_data)\n",
       "\n",
       "Coefficients:\n",
       "                       Estimate Std. Error z value Pr(>|z|)    \n",
       "(Intercept)           1.341e+03  1.796e+02   7.467 8.22e-14 ***\n",
       "fixed.acidity        -2.829e-01  2.544e-01  -1.112 0.266094    \n",
       "volatile.acidity     -7.296e+00  1.182e+00  -6.172 6.74e-10 ***\n",
       "citric.acid           3.238e+00  1.365e+00   2.371 0.017719 *  \n",
       "residual.sugar        8.842e-01  1.139e-01   7.764 8.23e-15 ***\n",
       "chlorides            -2.453e+01  4.575e+00  -5.360 8.32e-08 ***\n",
       "free.sulfur.dioxide  -6.345e-02  1.688e-02  -3.758 0.000171 ***\n",
       "total.sulfur.dioxide  5.552e-02  5.921e-03   9.376  < 2e-16 ***\n",
       "density              -1.330e+03  1.835e+02  -7.245 4.34e-13 ***\n",
       "pH                   -7.346e-01  1.534e+00  -0.479 0.632040    \n",
       "sulphates            -4.849e+00  1.440e+00  -3.366 0.000762 ***\n",
       "alcohol              -1.250e+00  2.712e-01  -4.610 4.02e-06 ***\n",
       "---\n",
       "Signif. codes:  0 '***' 0.001 '**' 0.01 '*' 0.05 '.' 0.1 ' ' 1\n",
       "\n",
       "(Dispersion parameter for binomial family taken to be 1)\n",
       "\n",
       "    Null deviance: 5065.53  on 4546  degrees of freedom\n",
       "Residual deviance:  308.77  on 4535  degrees of freedom\n",
       "AIC: 332.77\n",
       "\n",
       "Number of Fisher Scoring iterations: 10\n"
      ]
     },
     "metadata": {},
     "output_type": "display_data"
    },
    {
     "name": "stdout",
     "output_type": "stream",
     "text": [
      "\n",
      "Test Set Confusion Matrix:\n",
      "         Actual\n",
      "Predicted    0    1\n",
      "        0  471    2\n",
      "        1   13 1464\n",
      "Test Accuracy: 0.992 \n",
      "Test Precision: 0.991 \n",
      "Test Recall: 0.999 \n",
      "Test F1-Score: 0.995 \n"
     ]
    },
    {
     "name": "stderr",
     "output_type": "stream",
     "text": [
      "Setting levels: control = 0, case = 1\n",
      "\n",
      "Setting direction: controls < cases\n",
      "\n"
     ]
    },
    {
     "name": "stdout",
     "output_type": "stream",
     "text": [
      "AUC Value: 0.996 \n"
     ]
    },
    {
     "data": {
      "image/png": "[encoded data removed]",
      "text/plain": [
       "Plot with title \"ROC Curve for Wine Color Prediction\""
      ]
     },
     "metadata": {
      "image/png": {
       "height": 420,
       "width": 420
      }
     },
     "output_type": "display_data"
    }
   ],
   "source": [
    "cat(\"\\n=== TASK 5: WINE COLOR PREDICTION ===\\n\")\n",
    "\n",
    "# Create binary variable for variety (0 = red, 1 = white)\n",
    "wine_data$variety_binary <- ifelse(wine_data$variety == \"white\", 1, 0)\n",
    "\n",
    "# Train/test split (70/30)\n",
    "set.seed(123)  # For reproducibility\n",
    "train_indices <- sample(nrow(wine_data), 0.7 * nrow(wine_data))\n",
    "train_data <- wine_data[train_indices, ]\n",
    "test_data <- wine_data[-train_indices, ]\n",
    "\n",
    "cat(\"Training set size:\", nrow(train_data), \"\\n\")\n",
    "cat(\"Test set size:\", nrow(test_data), \"\\n\")\n",
    "\n",
    "# Build logistic regression model for color prediction\n",
    "color_formula <- paste(\"variety_binary ~\", paste(predictor_vars, collapse = \" + \"))\n",
    "color_model <- glm(as.formula(color_formula), \n",
    "                   data = train_data, family = binomial())\n",
    "\n",
    "cat(\"\\nColor Prediction Model Summary:\\n\")\n",
    "summary(color_model)\n",
    "\n",
    "# Predictions on test set\n",
    "test_predictions <- predict(color_model, newdata = test_data, type = \"response\")\n",
    "test_predicted_class <- ifelse(test_predictions > 0.5, 1, 0)\n",
    "\n",
    "# Confusion matrix for test set\n",
    "test_confusion <- table(Predicted = test_predicted_class, \n",
    "                       Actual = test_data$variety_binary)\n",
    "cat(\"\\nTest Set Confusion Matrix:\\n\")\n",
    "print(test_confusion)\n",
    "\n",
    "# Performance metrics\n",
    "test_accuracy <- sum(diag(test_confusion)) / sum(test_confusion)\n",
    "test_precision <- test_confusion[2,2] / sum(test_confusion[2,])\n",
    "test_recall <- test_confusion[2,2] / sum(test_confusion[,2])\n",
    "test_f1 <- 2 * (test_precision * test_recall) / (test_precision + test_recall)\n",
    "\n",
    "cat(\"Test Accuracy:\", round(test_accuracy, 3), \"\\n\")\n",
    "cat(\"Test Precision:\", round(test_precision, 3), \"\\n\")\n",
    "cat(\"Test Recall:\", round(test_recall, 3), \"\\n\")\n",
    "cat(\"Test F1-Score:\", round(test_f1, 3), \"\\n\")\n",
    "\n",
    "# ROC Curve and AUC\n",
    "roc_curve <- pROC::roc(test_data$variety_binary, test_predictions)\n",
    "auc_value <- pROC::auc(roc_curve)\n",
    "cat(\"AUC Value:\", round(auc_value, 3), \"\\n\")\n",
    "\n",
    "# Plot ROC curve\n",
    "plot(roc_curve, main = \"ROC Curve for Wine Color Prediction\")"
   ]
  },
  {
   "cell_type": "markdown",
   "id": "b194e2b0",
   "metadata": {},
   "source": [
    "# ===================================================================\n",
    "# TASK 6: FACTOR ANALYSIS\n",
    "# ==================================================================="
   ]
  },
  {
   "cell_type": "code",
   "execution_count": 28,
   "id": "5bfab6e8",
   "metadata": {
    "vscode": {
     "languageId": "r"
    }
   },
   "outputs": [
    {
     "name": "stdout",
     "output_type": "stream",
     "text": [
      "\n",
      "=== TASK 6: FACTOR ANALYSIS ===\n",
      "Correlation Matrix (first 5x5):\n",
      "                 fixed.acidity volatile.acidity citric.acid residual.sugar\n",
      "fixed.acidity        1.0000000        0.2190083  0.32443573     -0.1119813\n",
      "volatile.acidity     0.2190083        1.0000000 -0.37798132     -0.1960112\n",
      "citric.acid          0.3244357       -0.3779813  1.00000000      0.1424512\n",
      "residual.sugar      -0.1119813       -0.1960112  0.14245123      1.0000000\n",
      "chlorides            0.2981948        0.3771243  0.03899801     -0.1289405\n",
      "                   chlorides\n",
      "fixed.acidity     0.29819477\n",
      "volatile.acidity  0.37712428\n",
      "citric.acid       0.03899801\n",
      "residual.sugar   -0.12894050\n",
      "chlorides         1.00000000\n",
      "\n",
      "KMO Test Results:\n",
      "Kaiser-Meyer-Olkin factor adequacy\n",
      "Call: psych::KMO(r = factor_data)\n",
      "Overall MSA =  0.41\n",
      "MSA for each item = \n",
      "       fixed.acidity     volatile.acidity          citric.acid \n",
      "                0.28                 0.61                 0.62 \n",
      "      residual.sugar            chlorides  free.sulfur.dioxide \n",
      "                0.29                 0.73                 0.75 \n",
      "total.sulfur.dioxide              density                   pH \n",
      "                0.72                 0.30                 0.21 \n",
      "           sulphates              alcohol \n",
      "                0.56                 0.27 \n",
      "\n",
      "Bartlett's Test p-value: 0 \n"
     ]
    },
    {
     "data": {
      "image/png": "[encoded data removed]",
      "text/plain": [
       "Plot with title \"Scree plot\""
      ]
     },
     "metadata": {
      "image/png": {
       "height": 420,
       "width": 420
      }
     },
     "output_type": "display_data"
    },
    {
     "name": "stdout",
     "output_type": "stream",
     "text": [
      "Parallel analysis suggests that the number of factors =  5  and the number of components =  NA \n",
      "\n",
      "Factor Analysis Results:\n",
      "Factor Analysis using method =  ml\n",
      "Call: psych::fa(r = factor_data, nfactors = n_factors, rotate = \"varimax\", \n",
      "    fm = \"ml\")\n",
      "Standardized loadings (pattern matrix) based upon correlation matrix\n",
      "                       ML1   ML2   ML3   h2     u2 com\n",
      "fixed.acidity         0.65  0.09  0.75 1.00 0.0050 2.0\n",
      "volatile.acidity      0.60  0.08 -0.24 0.42 0.5804 1.3\n",
      "citric.acid          -0.13  0.07  0.53 0.31 0.6929 1.1\n",
      "residual.sugar       -0.36  0.76  0.07 0.71 0.2890 1.4\n",
      "chlorides             0.48  0.20 -0.04 0.27 0.7282 1.3\n",
      "free.sulfur.dioxide  -0.64  0.29  0.14 0.51 0.4901 1.5\n",
      "total.sulfur.dioxide -0.74  0.34  0.17 0.69 0.3064 1.5\n",
      "density               0.40  0.90  0.16 1.00 0.0049 1.5\n",
      "pH                    0.25 -0.01 -0.55 0.37 0.6305 1.4\n",
      "sulphates             0.45  0.08 -0.01 0.21 0.7858 1.1\n",
      "alcohol              -0.06 -0.74  0.01 0.55 0.4542 1.0\n",
      "\n",
      "                       ML1  ML2  ML3\n",
      "SS loadings           2.55 2.19 1.29\n",
      "Proportion Var        0.23 0.20 0.12\n",
      "Cumulative Var        0.23 0.43 0.55\n",
      "Proportion Explained  0.42 0.36 0.21\n",
      "Cumulative Proportion 0.42 0.79 1.00\n",
      "\n",
      "Mean item complexity =  1.4\n",
      "Test of the hypothesis that 3 factors are sufficient.\n",
      "\n",
      "df null model =  55  with the objective function =  5.71 with Chi Square =  37094.62\n",
      "df of  the model are 25  and the objective function was  1.43 \n",
      "\n",
      "The root mean square of the residuals (RMSR) is  0.07 \n",
      "The df corrected root mean square of the residuals is  0.1 \n",
      "\n",
      "The harmonic n.obs is  6497 with the empirical chi square  3393.35  with prob <  0 \n",
      "The total n.obs was  6497  with Likelihood Chi Square =  9289.52  with prob <  0 \n",
      "\n",
      "Tucker Lewis Index of factoring reliability =  0.45\n",
      "RMSEA index =  0.239  and the 90 % confidence intervals are  0.235 0.243\n",
      "BIC =  9070.04\n",
      "Fit based upon off diagonal values = 0.94\n",
      "Measures of factor score adequacy             \n",
      "                                                   ML1  ML2  ML3\n",
      "Correlation of (regression) scores with factors   0.95 0.99 0.96\n",
      "Multiple R square of scores with factors          0.91 0.99 0.93\n",
      "Minimum correlation of possible factor scores     0.81 0.97 0.86\n",
      "\n",
      "Factor Loadings:\n",
      "\n",
      "Loadings:\n",
      "                     ML1    ML2    ML3   \n",
      "fixed.acidity         0.652         0.750\n",
      "volatile.acidity      0.598              \n",
      "citric.acid                         0.535\n",
      "residual.sugar       -0.360  0.759       \n",
      "chlorides             0.482              \n",
      "free.sulfur.dioxide  -0.637              \n",
      "total.sulfur.dioxide -0.742  0.339       \n",
      "density               0.402  0.900       \n",
      "pH                                 -0.554\n",
      "sulphates             0.455              \n",
      "alcohol                     -0.736       \n",
      "\n",
      "                 ML1   ML2   ML3\n",
      "SS loadings    2.552 2.190 1.290\n",
      "Proportion Var 0.232 0.199 0.117\n",
      "Cumulative Var 0.232 0.431 0.548\n"
     ]
    },
    {
     "data": {
      "image/png": "[encoded data removed]",
      "text/plain": [
       "Plot with title \"Parallel Analysis Scree Plots\""
      ]
     },
     "metadata": {
      "image/png": {
       "height": 420,
       "width": 420
      }
     },
     "output_type": "display_data"
    }
   ],
   "source": [
    "cat(\"\\n=== TASK 6: FACTOR ANALYSIS ===\\n\")\n",
    "\n",
    "# Prepare data for factor analysis (exclude non-chemical/sensory variables)\n",
    "factor_data <- wine_data[, predictor_vars]\n",
    "\n",
    "# Remove any rows with missing values\n",
    "factor_data <- na.omit(factor_data)\n",
    "\n",
    "# Check correlation matrix\n",
    "correlation_matrix <- cor(factor_data)\n",
    "cat(\"Correlation Matrix (first 5x5):\\n\")\n",
    "print(correlation_matrix[1:5, 1:5])\n",
    "\n",
    "# Kaiser-Meyer-Olkin (KMO) test for sampling adequacy\n",
    "kmo_test <- psych::KMO(factor_data)\n",
    "cat(\"\\nKMO Test Results:\\n\")\n",
    "print(kmo_test)\n",
    "\n",
    "# Bartlett's test of sphericity\n",
    "bartlett_test <- psych::cortest.bartlett(correlation_matrix, n = nrow(factor_data))\n",
    "cat(\"\\nBartlett's Test p-value:\", bartlett_test$p.value, \"\\n\")\n",
    "\n",
    "# Determine number of factors using scree plot\n",
    "scree_plot <- psych::scree(factor_data)\n",
    "\n",
    "# Parallel analysis for factor number determination\n",
    "parallel_analysis <- psych::fa.parallel(factor_data, fm = \"ml\", fa = \"fa\")\n",
    "\n",
    "# Perform factor analysis (using suggested number of factors)\n",
    "n_factors <- 3  # Adjust based on scree plot and parallel analysis\n",
    "factor_analysis <- psych::fa(factor_data, nfactors = n_factors, \n",
    "                            rotate = \"varimax\", fm = \"ml\")\n",
    "\n",
    "cat(\"\\nFactor Analysis Results:\\n\")\n",
    "print(factor_analysis)\n",
    "\n",
    "# Factor loadings\n",
    "cat(\"\\nFactor Loadings:\\n\")\n",
    "print(factor_analysis$loadings, cutoff = 0.3)"
   ]
  },
  {
   "cell_type": "markdown",
   "id": "0508dcfc",
   "metadata": {},
   "source": [
    "# ===================================================================\n",
    "# SUMMARY AND CONCLUSIONS\n",
    "# ===================================================================\n",
    "\n"
   ]
  },
  {
   "cell_type": "code",
   "execution_count": 29,
   "id": "dc77be98",
   "metadata": {
    "vscode": {
     "languageId": "r"
    }
   },
   "outputs": [
    {
     "name": "stdout",
     "output_type": "stream",
     "text": [
      "\n",
      "=== ANALYSIS SUMMARY ===\n",
      "1. Dataset contains 6497 observations with 16 variables\n",
      "2. T-test results: Alcohol content differs significantly between red and white wines\n",
      "3. Linear regression R-squared: 0.361 \n",
      "4. Quality classification accuracy: 0.849 \n",
      "5. Color prediction test accuracy: 0.992 \n",
      "6. Factor analysis extracted 3 factors explaining wine properties\n"
     ]
    }
   ],
   "source": [
    "cat(\"\\n=== ANALYSIS SUMMARY ===\\n\")\n",
    "cat(\"1. Dataset contains\", nrow(wine_data), \"observations with\", ncol(wine_data), \"variables\\n\")\n",
    "cat(\"2. T-test results: Alcohol content differs significantly between red and white wines\\n\")\n",
    "cat(\"3. Linear regression R-squared:\", round(summary(regression_model)$r.squared, 3), \"\\n\")\n",
    "cat(\"4. Quality classification accuracy:\", round(accuracy, 3), \"\\n\")\n",
    "cat(\"5. Color prediction test accuracy:\", round(test_accuracy, 3), \"\\n\")\n",
    "cat(\"6. Factor analysis extracted\", n_factors, \"factors explaining wine properties\\n\")"
   ]
  }
 ],
 "metadata": {
  "kernelspec": {
   "display_name": "R",
   "language": "R",
   "name": "ir"
  },
  "language_info": {
   "codemirror_mode": "r",
   "file_extension": ".r",
   "mimetype": "text/x-r-source",
   "name": "R",
   "pygments_lexer": "r",
   "version": "4.4.3"
  }
 },
 "nbformat": 4,
 "nbformat_minor": 5
}
